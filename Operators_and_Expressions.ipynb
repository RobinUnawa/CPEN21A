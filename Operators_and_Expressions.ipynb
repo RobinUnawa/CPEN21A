{
  "nbformat": 4,
  "nbformat_minor": 0,
  "metadata": {
    "colab": {
      "name": "Operators and Expressions.ipynb",
      "provenance": [],
      "authorship_tag": "ABX9TyON5t7VDd/dQr0LKaO1zTFI",
      "include_colab_link": true
    },
    "kernelspec": {
      "name": "python3",
      "display_name": "Python 3"
    },
    "language_info": {
      "name": "python"
    }
  },
  "cells": [
    {
      "cell_type": "markdown",
      "metadata": {
        "id": "view-in-github",
        "colab_type": "text"
      },
      "source": [
        "<a href=\"https://colab.research.google.com/github/RobinUnawa/CPEN21A/blob/main/Operators_and_Expressions.ipynb\" target=\"_parent\"><img src=\"https://colab.research.google.com/assets/colab-badge.svg\" alt=\"Open In Colab\"/></a>"
      ]
    },
    {
      "cell_type": "code",
      "metadata": {
        "id": "QzyVm-jx_bKc"
      },
      "source": [
        ""
      ],
      "execution_count": null,
      "outputs": []
    },
    {
      "cell_type": "markdown",
      "metadata": {
        "id": "UintORYuDFFX"
      },
      "source": [
        "BOOLEAN OPERATORS"
      ]
    },
    {
      "cell_type": "code",
      "metadata": {
        "colab": {
          "base_uri": "https://localhost:8080/"
        },
        "id": "fB6Gk9vJDGQW",
        "outputId": "8e96740a-d0da-44db-c464-e6d734c7ec3d"
      },
      "source": [
        "print(10>9)\n",
        "print(10==9)"
      ],
      "execution_count": 6,
      "outputs": [
        {
          "output_type": "stream",
          "name": "stdout",
          "text": [
            "True\n",
            "False\n"
          ]
        }
      ]
    },
    {
      "cell_type": "code",
      "metadata": {
        "colab": {
          "base_uri": "https://localhost:8080/"
        },
        "id": "N9eyalgoD1_Z",
        "outputId": "5bd9492a-0be5-460a-902e-583433c79568"
      },
      "source": [
        "print(bool(\"Hi\"))\n",
        "print(bool(123))\n",
        "print(bool(True))\n",
        "print(bool(False))\n",
        "print(bool(1))\n",
        "print(bool(0))\n",
        "print(bool(None))\n",
        "print(bool({}))\n",
        "print(bool([]))"
      ],
      "execution_count": 4,
      "outputs": [
        {
          "output_type": "stream",
          "name": "stdout",
          "text": [
            "True\n",
            "True\n",
            "True\n",
            "False\n",
            "True\n",
            "False\n",
            "False\n",
            "False\n",
            "False\n"
          ]
        }
      ]
    },
    {
      "cell_type": "code",
      "metadata": {
        "colab": {
          "base_uri": "https://localhost:8080/"
        },
        "id": "TwK5loOIEQ4C",
        "outputId": "63d6d635-9736-4fe5-872d-a23653659279"
      },
      "source": [
        "def myFunction(): return True\n",
        "print(myFunction())"
      ],
      "execution_count": 5,
      "outputs": [
        {
          "output_type": "stream",
          "name": "stdout",
          "text": [
            "True\n"
          ]
        }
      ]
    },
    {
      "cell_type": "code",
      "metadata": {
        "colab": {
          "base_uri": "https://localhost:8080/"
        },
        "id": "oNR7YHUkEXJA",
        "outputId": "6f2252e8-6f31-4375-c684-da90da2e956c"
      },
      "source": [
        "def myFunction(): return True\n",
        "if myFunction():\n",
        "  print(\"Yes\")\n",
        "else:\n",
        "    print(\"NO!\")"
      ],
      "execution_count": 7,
      "outputs": [
        {
          "output_type": "stream",
          "name": "stdout",
          "text": [
            "Yes\n"
          ]
        }
      ]
    },
    {
      "cell_type": "code",
      "metadata": {
        "colab": {
          "base_uri": "https://localhost:8080/"
        },
        "id": "b0Yl1Y9OEget",
        "outputId": "15661d2c-3721-47f9-dbb3-6141c1ba4817"
      },
      "source": [
        "a=6\n",
        "b=7\n",
        "print(10>9)\n",
        "print(a==b)\n",
        "print(a!=a)"
      ],
      "execution_count": 8,
      "outputs": [
        {
          "output_type": "stream",
          "name": "stdout",
          "text": [
            "True\n",
            "False\n",
            "False\n"
          ]
        }
      ]
    },
    {
      "cell_type": "markdown",
      "metadata": {
        "id": "5CPQRP9wElr4"
      },
      "source": [
        "Operators"
      ]
    },
    {
      "cell_type": "code",
      "metadata": {
        "colab": {
          "base_uri": "https://localhost:8080/"
        },
        "id": "rkeVOSlTEnWo",
        "outputId": "4fa0223c-0a20-406b-a7b4-5f4257cd368a"
      },
      "source": [
        "print(10+5)\n",
        "print(10-5) \n",
        "print(10*5)\n",
        "print(10/5)\n",
        "print(10%5)\n",
        "print(10//3)\n",
        "print(10**2)"
      ],
      "execution_count": 10,
      "outputs": [
        {
          "output_type": "stream",
          "name": "stdout",
          "text": [
            "15\n",
            "5\n",
            "50\n",
            "2.0\n",
            "0\n",
            "3\n",
            "100\n"
          ]
        }
      ]
    },
    {
      "cell_type": "markdown",
      "metadata": {
        "id": "O2ypvwR3E7vC"
      },
      "source": [
        "Bitwise Operators"
      ]
    },
    {
      "cell_type": "code",
      "metadata": {
        "colab": {
          "base_uri": "https://localhost:8080/"
        },
        "id": "a65oYgunFAMO",
        "outputId": "b5ea655b-de7d-4360-f4cb-c346504dddf7"
      },
      "source": [
        "a=60\n",
        "b=13\n",
        "\n",
        "print(a^b)\n",
        "print(a&b)\n",
        "print(~a)\n",
        "print(a<<2) \n",
        "print(a>>2)"
      ],
      "execution_count": 11,
      "outputs": [
        {
          "output_type": "stream",
          "name": "stdout",
          "text": [
            "49\n",
            "12\n",
            "-61\n",
            "240\n",
            "15\n"
          ]
        }
      ]
    },
    {
      "cell_type": "markdown",
      "metadata": {
        "id": "vAI5C-vXFGnc"
      },
      "source": [
        "**Assignment Operators**"
      ]
    },
    {
      "cell_type": "code",
      "metadata": {
        "colab": {
          "base_uri": "https://localhost:8080/"
        },
        "id": "UJJv3fN5FI05",
        "outputId": "cc309256-3382-4065-d914-7266008ec78b"
      },
      "source": [
        "x=5\n",
        "x+=2\n",
        "print(x)"
      ],
      "execution_count": 12,
      "outputs": [
        {
          "output_type": "stream",
          "name": "stdout",
          "text": [
            "7\n"
          ]
        }
      ]
    },
    {
      "cell_type": "markdown",
      "metadata": {
        "id": "dmzSP2DLFNQo"
      },
      "source": [
        "Logical Operator"
      ]
    },
    {
      "cell_type": "code",
      "metadata": {
        "colab": {
          "base_uri": "https://localhost:8080/"
        },
        "id": "IiEXoPw_FPIe",
        "outputId": "efbd449f-9fdc-437b-8cf6-96fe43d2d5c0"
      },
      "source": [
        "a=5\n",
        "b=6\n",
        "print(a==b & b>>a)\n",
        "print(a<b or b==a)"
      ],
      "execution_count": 13,
      "outputs": [
        {
          "output_type": "stream",
          "name": "stdout",
          "text": [
            "False\n",
            "True\n"
          ]
        }
      ]
    },
    {
      "cell_type": "markdown",
      "metadata": {
        "id": "IixI3HcsFUXE"
      },
      "source": [
        "Identity Operator"
      ]
    },
    {
      "cell_type": "code",
      "metadata": {
        "colab": {
          "base_uri": "https://localhost:8080/"
        },
        "id": "c_B9BudNFVdJ",
        "outputId": "ecaeeabd-ace0-46eb-9c64-b731a2e7d315"
      },
      "source": [
        "print(a is b)\n",
        "print(a is not b)"
      ],
      "execution_count": 14,
      "outputs": [
        {
          "output_type": "stream",
          "name": "stdout",
          "text": [
            "False\n",
            "True\n"
          ]
        }
      ]
    }
  ]
}