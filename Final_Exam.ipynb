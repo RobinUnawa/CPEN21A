{
  "nbformat": 4,
  "nbformat_minor": 0,
  "metadata": {
    "colab": {
      "name": "Final Exam.ipynb",
      "provenance": [],
      "authorship_tag": "ABX9TyMufdWoj3CM1QBPXEA1ecrZ",
      "include_colab_link": true
    },
    "kernelspec": {
      "name": "python3",
      "display_name": "Python 3"
    },
    "language_info": {
      "name": "python"
    }
  },
  "cells": [
    {
      "cell_type": "markdown",
      "metadata": {
        "id": "view-in-github",
        "colab_type": "text"
      },
      "source": [
        "<a href=\"https://colab.research.google.com/github/RobinUnawa/CPEN21A/blob/main/Final_Exam.ipynb\" target=\"_parent\"><img src=\"https://colab.research.google.com/assets/colab-badge.svg\" alt=\"Open In Colab\"/></a>"
      ]
    },
    {
      "cell_type": "markdown",
      "source": [
        "## **FINAL EXAM**\n",
        "Robin Unawa,\n",
        "BSECE 2-2,\n",
        "202014015,"
      ],
      "metadata": {
        "id": "23W6ERaMb2sm"
      }
    },
    {
      "cell_type": "markdown",
      "source": [
        "**Problem Statement 1**"
      ],
      "metadata": {
        "id": "l1kbwuT2b9LC"
      }
    },
    {
      "cell_type": "code",
      "source": [
        "total = 0\n",
        "x=-5\n",
        "\n",
        "for y in range (x,5):\n",
        "    total = total + y\n",
        "    \n",
        "print(total)"
      ],
      "metadata": {
        "colab": {
          "base_uri": "https://localhost:8080/"
        },
        "id": "qE_ULrn0cEnC",
        "outputId": "63aa7353-df15-47a1-c697-81134207ceda"
      },
      "execution_count": 9,
      "outputs": [
        {
          "output_type": "stream",
          "name": "stdout",
          "text": [
            "-5\n"
          ]
        }
      ]
    },
    {
      "cell_type": "markdown",
      "source": [
        "**Problem Statement 2**"
      ],
      "metadata": {
        "id": "xS7wnIb5cV-1"
      }
    },
    {
      "cell_type": "code",
      "source": [
        "x = 0 \n",
        "s = []\n",
        "\n",
        "while x < 5:\n",
        "  x += 1\n",
        "  nm = int(input(\"Enter a number: \"))\n",
        "  s. append(nm)\n",
        "  sm = s[0] + s[-1]\n",
        "\n",
        "print(\"Numbers Input: \", s)\n",
        "print(sm)"
      ],
      "metadata": {
        "colab": {
          "base_uri": "https://localhost:8080/"
        },
        "id": "wWoVLfqXca7c",
        "outputId": "2bf6780e-c053-43da-ea16-b285cf5f2227"
      },
      "execution_count": 12,
      "outputs": [
        {
          "output_type": "stream",
          "name": "stdout",
          "text": [
            "Enter a number: 5\n",
            "Enter a number: 6\n",
            "Enter a number: 9\n",
            "Enter a number: 3\n",
            "Enter a number: 67\n",
            "Numbers Input:  [5, 6, 9, 3, 67]\n",
            "72\n"
          ]
        }
      ]
    },
    {
      "cell_type": "markdown",
      "source": [
        "# **Problem Statement 3**"
      ],
      "metadata": {
        "id": "zc-gb27ReCJ_"
      }
    },
    {
      "cell_type": "code",
      "source": [
        "sum=0\n",
        "average=0\n",
        "print(\"Enter marks:\")\n",
        "mark1=int(input(\"Mark1 \"))\n",
        "mark2=int(input(\"Mark2 \"))\n",
        "mark3=int(input(\"Mark3 \"))\n",
        "sum=mark1+mark2+mark3\n",
        "average=sum/3\n",
        "if average >=90:\n",
        "  print(\"Your grade is A\")\n",
        "else:\n",
        "    if average >=80 and average <90:\n",
        "      print(\"Your grade is B\")\n",
        "    else:\n",
        "        if average >=70 and average <80:\n",
        "           print(\"Your grade is C\")\n",
        "        else:\n",
        "            if average >=60 and average <70:\n",
        "               print(\"Your grade is D\")\n",
        "            else:\n",
        "              print(\"Your grade is F\")"
      ],
      "metadata": {
        "colab": {
          "base_uri": "https://localhost:8080/"
        },
        "id": "HNipjOLqeFsw",
        "outputId": "98c3893a-3d7e-4d7b-a438-2d5b4b04e118"
      },
      "execution_count": 11,
      "outputs": [
        {
          "output_type": "stream",
          "name": "stdout",
          "text": [
            "Enter marks:\n",
            "Mark1 62\n",
            "Mark2 98\n",
            "Mark3 90\n",
            "Your grade is B\n"
          ]
        }
      ]
    }
  ]
}