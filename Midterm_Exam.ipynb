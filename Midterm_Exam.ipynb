{
  "nbformat": 4,
  "nbformat_minor": 0,
  "metadata": {
    "colab": {
      "name": "Midterm Exam.ipynb",
      "provenance": [],
      "authorship_tag": "ABX9TyPT9mKLJlipgoyZ9TnKXAt+",
      "include_colab_link": true
    },
    "kernelspec": {
      "name": "python3",
      "display_name": "Python 3"
    },
    "language_info": {
      "name": "python"
    }
  },
  "cells": [
    {
      "cell_type": "markdown",
      "metadata": {
        "id": "view-in-github",
        "colab_type": "text"
      },
      "source": [
        "<a href=\"https://colab.research.google.com/github/RobinUnawa/CPEN21A/blob/main/Midterm_Exam.ipynb\" target=\"_parent\"><img src=\"https://colab.research.google.com/assets/colab-badge.svg\" alt=\"Open In Colab\"/></a>"
      ]
    },
    {
      "cell_type": "markdown",
      "metadata": {
        "id": "PZRsGaWLvVKz"
      },
      "source": [
        "## **Midterm Exam**"
      ]
    },
    {
      "cell_type": "markdown",
      "metadata": {
        "id": "JYtGf8NFvfpH"
      },
      "source": [
        "**Problem Statement 1**"
      ]
    },
    {
      "cell_type": "code",
      "metadata": {
        "colab": {
          "base_uri": "https://localhost:8080/"
        },
        "id": "w6Vh8xPzxQaF",
        "outputId": "83124a1a-83f6-4249-bfc7-5aed78a43107"
      },
      "source": [
        "print(\"Robin Ramirez Unawa\") #a. Fullname\n",
        "print(\"202014015\") #b. Student Number\n",
        "print(\"19\") #c. Age\n",
        "print(\"July 06, 2002\") #d. Birthdate\n",
        "print(\"Bucal 2, Maragondon, Cavite\") #e. Address\n",
        "print(\"Bachelor of Science in Electronics and Communications Engineering (BSECE)\") #f. Course\n",
        "print(\"1.84\") #g. Last Sem GWA"
      ],
      "execution_count": 15,
      "outputs": [
        {
          "output_type": "stream",
          "name": "stdout",
          "text": [
            "Robin Ramirez Unawa\n",
            "202014015\n",
            "19\n",
            "July 06, 2002\n",
            "Bucal 2, Maragondon, Cavite\n",
            "Bachelor of Science in Electronics and Communications Engineering (BSECE)\n",
            "1.84\n"
          ]
        }
      ]
    },
    {
      "cell_type": "markdown",
      "metadata": {
        "id": "QCKxP2zH13vW"
      },
      "source": [
        "**Problem Statement 2**"
      ]
    },
    {
      "cell_type": "code",
      "metadata": {
        "colab": {
          "base_uri": "https://localhost:8080/"
        },
        "id": "GTufTsTr17nH",
        "outputId": "461ccde7-f142-49b8-949a-020597bbf9ed"
      },
      "source": [
        "n=4\n",
        "answ=\"Y\"\n",
        "print(2<n and n<6)\n",
        "print((2<n) or (n==6))\n",
        "print(not 2<n or n==6)\n",
        "print(not n<6)\n",
        "print(answ==\"Y\" or answ==\"y\")\n",
        "print(answ==\"Y\" and answ==\"y\")\n",
        "print(not answ==\"y\")\n",
        "print((2<n and n==5+1) or answ==\"No\")\n",
        "print((n==2 and n==7) or answ==\"Y\")\n",
        "print(n==2 and (n==7 or answ==\"Y\"))"
      ],
      "execution_count": 19,
      "outputs": [
        {
          "output_type": "stream",
          "name": "stdout",
          "text": [
            "True\n",
            "True\n",
            "False\n",
            "False\n",
            "True\n",
            "False\n",
            "True\n",
            "False\n",
            "True\n",
            "False\n"
          ]
        }
      ]
    },
    {
      "cell_type": "markdown",
      "metadata": {
        "id": "Epznsaj318Oj"
      },
      "source": [
        "**Problem Statement 3**"
      ]
    },
    {
      "cell_type": "code",
      "metadata": {
        "colab": {
          "base_uri": "https://localhost:8080/"
        },
        "id": "E03d8CQv1_F5",
        "outputId": "e6338aac-7256-4f98-c7fe-d99ab40ce19c"
      },
      "source": [
        "x=2\n",
        "y=-3\n",
        "w=7\n",
        "z=-10\n",
        "\n",
        "print(x/y)\n",
        "print(w/y/x)\n",
        "print(z/y%x)\n",
        "print(x%-y*w)\n",
        "print(x%y)\n",
        "print(z%w-y/x*5+5)\n",
        "print(9-x%(2+y))\n",
        "print(z//w)\n",
        "print((2+y)**2)\n",
        "print(w/x*2)"
      ],
      "execution_count": 16,
      "outputs": [
        {
          "output_type": "stream",
          "name": "stdout",
          "text": [
            "-0.6666666666666666\n",
            "-1.1666666666666667\n",
            "1.3333333333333335\n",
            "14\n",
            "-1\n",
            "16.5\n",
            "9\n",
            "-2\n",
            "1\n",
            "7.0\n"
          ]
        }
      ]
    }
  ]
}