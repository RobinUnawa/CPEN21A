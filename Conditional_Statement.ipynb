{
  "nbformat": 4,
  "nbformat_minor": 0,
  "metadata": {
    "colab": {
      "name": "Conditional Statement.ipynb",
      "provenance": [],
      "authorship_tag": "ABX9TyOEs9zeVc1Lp4uYHcuBrizV",
      "include_colab_link": true
    },
    "kernelspec": {
      "name": "python3",
      "display_name": "Python 3"
    },
    "language_info": {
      "name": "python"
    }
  },
  "cells": [
    {
      "cell_type": "markdown",
      "metadata": {
        "id": "view-in-github",
        "colab_type": "text"
      },
      "source": [
        "<a href=\"https://colab.research.google.com/github/RobinUnawa/CPEN21A/blob/main/Conditional_Statement.ipynb\" target=\"_parent\"><img src=\"https://colab.research.google.com/assets/colab-badge.svg\" alt=\"Open In Colab\"/></a>"
      ]
    },
    {
      "cell_type": "markdown",
      "metadata": {
        "id": "0wqWLBANL0Gg"
      },
      "source": [
        "WEEK 11 ASSESSMENT\n",
        "ROBIN UNAWA\n",
        "BSECE 2-2"
      ]
    },
    {
      "cell_type": "code",
      "metadata": {
        "colab": {
          "base_uri": "https://localhost:8080/"
        },
        "id": "w8gti5ZxL8AU",
        "outputId": "a8a9a206-7531-4046-e5f0-44a199e314c8"
      },
      "source": [
        "number = int(input(\"Enter a grade:\"))\n",
        "if number >=75:\n",
        "  print (\"Passed\")\n",
        "elif number ==74:\n",
        "  print (\"Remedial\")\n",
        "elif number <74:\n",
        "  print (\"Failed\")\n",
        "\n",
        "  \n"
      ],
      "execution_count": 25,
      "outputs": [
        {
          "output_type": "stream",
          "name": "stdout",
          "text": [
            "Enter a grade:75\n",
            "Passed\n"
          ]
        }
      ]
    }
  ]
}